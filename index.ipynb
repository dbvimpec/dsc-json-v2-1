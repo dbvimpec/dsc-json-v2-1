{
  "cells": [
    {
      "cell_type": "markdown",
      "metadata": {
        "id": "view-in-github",
        "colab_type": "text"
      },
      "source": [
        "<a href=\"https://colab.research.google.com/github/dbvimpec/dsc-json-v2-1/blob/master/index.ipynb\" target=\"_parent\"><img src=\"https://colab.research.google.com/assets/colab-badge.svg\" alt=\"Open In Colab\"/></a>"
      ]
    },
    {
      "cell_type": "markdown",
      "metadata": {
        "id": "ldclpPg-8Biz"
      },
      "source": [
        "# JSON\n",
        "\n",
        "## Introduction\n",
        "\n",
        "In this lesson, you'll continue investigating new formats for data. Specifically, you'll investigate one of the most popular data formats for the web: JSON files.\n",
        "\n",
        "## Objectives\n",
        "You will be able to:\n",
        "\n",
        "* Describe features of the JSON format and the Python `json` module\n",
        "* Use Python to load and parse JSON documents\n",
        "\n",
        "\n",
        "## JSON Format\n",
        "\n",
        "JSON stands for JavaScript Object Notation. Similar to CSV, JSON is a **plain text** data format. However the structure of JSON — based on the syntax of JavaScript — is more complex.\n",
        "\n",
        "Here's a brief preview of a JSON file:  \n",
        "\n",
        "<img src=\"https://github.com/dbvimpec/dsc-json-v2-1/blob/master/images/json_preview.png?raw=1\" width=\"850\">\n",
        "\n",
        "As you can see, JSON is not a tabular format with one set of rows and one set of columns. JSON files are often nested in a hierarchical structure and will have data structures analogous to Python dictionaries and lists. Here's all of the built-in supported data types in JSON and their counterparts in Python:\n",
        "\n",
        "<img src=\"https://github.com/dbvimpec/dsc-json-v2-1/blob/master/images/json_python_datatypes.png?raw=1\" width=500>\n",
        "\n",
        "\n",
        "## `json` Module\n",
        "\n",
        "In theory we could write our own custom code to split that string on `{`, `\"`, `:` etc. and parse the contents of the file into the appropriate Python data structures.\n",
        "\n",
        "Instead, we'll go ahead and use a pre-built Python module designed for this purpose. It will give us a powerful starting point for accessing and manipulating the data in JSON files. This module is called `json`.\n",
        "\n",
        "You can find full documentation for this module [here](https://docs.python.org/3/library/json.html).\n",
        "\n",
        "To use the `json` module, start by importing it:"
      ]
    },
    {
      "cell_type": "code",
      "source": [
        "!git clone https://github.com/dbvimpec/dsc-json-v2-1"
      ],
      "metadata": {
        "id": "XMPJXmSEaJbf",
        "outputId": "81ddda71-2038-4287-bba7-4409eb71bb75",
        "colab": {
          "base_uri": "https://localhost:8080/"
        }
      },
      "execution_count": 3,
      "outputs": [
        {
          "output_type": "stream",
          "name": "stdout",
          "text": [
            "Cloning into 'dsc-json-v2-1'...\n",
            "remote: Enumerating objects: 145, done.\u001b[K\n",
            "remote: Counting objects: 100% (38/38), done.\u001b[K\n",
            "remote: Compressing objects: 100% (26/26), done.\u001b[K\n",
            "remote: Total 145 (delta 11), reused 19 (delta 4), pack-reused 107 (from 1)\u001b[K\n",
            "Receiving objects: 100% (145/145), 708.69 KiB | 9.71 MiB/s, done.\n",
            "Resolving deltas: 100% (75/75), done.\n"
          ]
        }
      ]
    },
    {
      "cell_type": "code",
      "execution_count": 1,
      "metadata": {
        "id": "iLz1qSzz8Bi4"
      },
      "outputs": [],
      "source": [
        "import json"
      ]
    },
    {
      "cell_type": "markdown",
      "metadata": {
        "id": "tqXgbGpn8Bi5"
      },
      "source": [
        "### `json.load`\n",
        "\n",
        "To load data from a JSON file, you first open the file using Python's built-in `open` function. Then you pass the file object to the `json.load` function, which returns a Python object representing the contents of the file.\n",
        "\n",
        "In the cell below, we open the campaign finance JSON file previewed above:"
      ]
    },
    {
      "cell_type": "code",
      "execution_count": 8,
      "metadata": {
        "id": "37yrljq28Bi6",
        "outputId": "bdf5de2f-2924-4c33-abc8-ef0b83903c9a",
        "colab": {
          "base_uri": "https://localhost:8080/"
        }
      },
      "outputs": [
        {
          "output_type": "stream",
          "name": "stdout",
          "text": [
            "<class 'dict'>\n"
          ]
        }
      ],
      "source": [
        "with open('dsc-json-v2-1/nyc_2001_campaign_finance.json') as f:\n",
        "    data = json.load(f)\n",
        "print(type(data))\n"
      ]
    },
    {
      "cell_type": "markdown",
      "metadata": {
        "id": "jlnX5EdG8Bi7"
      },
      "source": [
        "As you can see, this loaded the data as a dictionary. You can begin to investigate the contents of a JSON file by using our traditional Python methods."
      ]
    },
    {
      "cell_type": "markdown",
      "metadata": {
        "id": "Qs6s1udl8Bi7"
      },
      "source": [
        "### Parsing a JSON File\n",
        "\n",
        "Since we have a dictionary, check its keys:"
      ]
    },
    {
      "cell_type": "code",
      "execution_count": 9,
      "metadata": {
        "id": "iDc91dFF8Bi7",
        "outputId": "4e5b20dd-f22a-4b0c-ec11-5c0a9347b601",
        "colab": {
          "base_uri": "https://localhost:8080/"
        }
      },
      "outputs": [
        {
          "output_type": "execute_result",
          "data": {
            "text/plain": [
              "dict_keys(['meta', 'data'])"
            ]
          },
          "metadata": {},
          "execution_count": 9
        }
      ],
      "source": [
        "data.keys()"
      ]
    },
    {
      "cell_type": "markdown",
      "metadata": {
        "id": "0voEOe7H8Bi8"
      },
      "source": [
        "Investigate what data types are stored within the values associated with those keys:"
      ]
    },
    {
      "cell_type": "code",
      "execution_count": 10,
      "metadata": {
        "id": "tiX236xY8Bi8",
        "outputId": "5108022e-8e7c-43d7-cb4d-f5e3ed38b384",
        "colab": {
          "base_uri": "https://localhost:8080/"
        }
      },
      "outputs": [
        {
          "output_type": "stream",
          "name": "stdout",
          "text": [
            "<class 'dict'>\n",
            "<class 'list'>\n"
          ]
        }
      ],
      "source": [
        "for v in data.values():\n",
        "    print(type(v))"
      ]
    },
    {
      "cell_type": "markdown",
      "metadata": {
        "id": "yjtOkAMd8Bi9"
      },
      "source": [
        "#### Parsing Metadata\n",
        "\n",
        "Then we can dig a level deeper. What are the keys of the nested dictionary?"
      ]
    },
    {
      "cell_type": "code",
      "execution_count": 11,
      "metadata": {
        "id": "aDhdSDwv8Bi9",
        "outputId": "41abcaeb-8f7e-4956-b0d1-39277b811427",
        "colab": {
          "base_uri": "https://localhost:8080/"
        }
      },
      "outputs": [
        {
          "output_type": "execute_result",
          "data": {
            "text/plain": [
              "dict_keys(['view'])"
            ]
          },
          "metadata": {},
          "execution_count": 11
        }
      ],
      "source": [
        "data['meta'].keys()"
      ]
    },
    {
      "cell_type": "markdown",
      "metadata": {
        "id": "lCXLLgv88Bi-"
      },
      "source": [
        "And what is the type of the value associated with that key?"
      ]
    },
    {
      "cell_type": "code",
      "execution_count": 12,
      "metadata": {
        "id": "jZK9Rg338Bi-",
        "outputId": "d7658d1f-5ca8-42db-ddf1-e53d6718a937",
        "colab": {
          "base_uri": "https://localhost:8080/"
        }
      },
      "outputs": [
        {
          "output_type": "execute_result",
          "data": {
            "text/plain": [
              "dict"
            ]
          },
          "metadata": {},
          "execution_count": 12
        }
      ],
      "source": [
        "type(data['meta']['view'])"
      ]
    },
    {
      "cell_type": "markdown",
      "metadata": {
        "id": "drX5P-Ri8Bi-"
      },
      "source": [
        "Again, what are the keys of that twice-nested dictionary?"
      ]
    },
    {
      "cell_type": "code",
      "execution_count": 13,
      "metadata": {
        "id": "wsbjaVrz8Bi-",
        "outputId": "7019e2c0-cdc7-4b3e-d3db-b99339a247bf",
        "colab": {
          "base_uri": "https://localhost:8080/"
        }
      },
      "outputs": [
        {
          "output_type": "execute_result",
          "data": {
            "text/plain": [
              "dict_keys(['id', 'name', 'attribution', 'averageRating', 'category', 'createdAt', 'description', 'displayType', 'downloadCount', 'hideFromCatalog', 'hideFromDataJson', 'indexUpdatedAt', 'newBackend', 'numberOfComments', 'oid', 'provenance', 'publicationAppendEnabled', 'publicationDate', 'publicationGroup', 'publicationStage', 'rowClass', 'rowsUpdatedAt', 'rowsUpdatedBy', 'tableId', 'totalTimesRated', 'viewCount', 'viewLastModified', 'viewType', 'columns', 'grants', 'metadata', 'owner', 'query', 'rights', 'tableAuthor', 'tags', 'flags'])"
            ]
          },
          "metadata": {},
          "execution_count": 13
        }
      ],
      "source": [
        "data['meta']['view'].keys()"
      ]
    },
    {
      "cell_type": "markdown",
      "metadata": {
        "id": "xK4Qz_X78Bi-"
      },
      "source": [
        "That is a lot of keys. One way we might try to view all of that information is using the `pandas` package to make a table."
      ]
    },
    {
      "cell_type": "code",
      "execution_count": 14,
      "metadata": {
        "id": "orgC0lRL8Bi_",
        "outputId": "179a988a-943a-4e32-83c6-0ab2974a101c",
        "colab": {
          "base_uri": "https://localhost:8080/",
          "height": 1000
        }
      },
      "outputs": [
        {
          "output_type": "execute_result",
          "data": {
            "text/plain": [
              "                                                                                                                                            value\n",
              "id                                                                                                                                      8dhd-zvi6\n",
              "name                                                                                                                       2001 Campaign Payments\n",
              "attribution                                                                                                          Campaign Finance Board (CFB)\n",
              "averageRating                                                                                                                                   0\n",
              "category                                                                                                                          City Government\n",
              "createdAt                                                                                                                              1315950830\n",
              "description                                      A listing of public funds payments for candidates for City office during the 2001 election cycle\n",
              "displayType                                                                                                                                 table\n",
              "downloadCount                                                                                                                                1470\n",
              "hideFromCatalog                                                                                                                             False\n",
              "hideFromDataJson                                                                                                                            False\n",
              "indexUpdatedAt                                                                                                                         1536596254\n",
              "newBackend                                                                                                                                  False\n",
              "numberOfComments                                                                                                                                0\n",
              "oid                                                                                                                                       4140996\n",
              "provenance                                                                                                                               official\n",
              "publicationAppendEnabled                                                                                                                    False\n",
              "publicationDate                                                                                                                        1371845179\n",
              "publicationGroup                                                                                                                           240370\n",
              "publicationStage                                                                                                                        published\n",
              "rowClass                                                                                                                                         \n",
              "rowsUpdatedAt                                                                                                                          1371845177\n",
              "rowsUpdatedBy                                                                                                                           5fuc-pqz2\n",
              "tableId                                                                                                                                    932968\n",
              "totalTimesRated                                                                                                                                 0\n",
              "viewCount                                                                                                                                     233\n",
              "viewLastModified                                                                                                                       1536605717\n",
              "viewType                                                                                                                                  tabular\n",
              "columns                   [{'id': -1, 'name': 'sid', 'dataTypeName': 'meta_data', 'fieldName': ':sid', 'position': 0, 'renderTypeName': 'meta_...\n",
              "grants                                                                              [{'inherited': False, 'type': 'viewer', 'flags': ['public']}]\n",
              "metadata                  {'rdfSubject': '0', 'rdfClass': '', 'attachments': [{'filename': 'Data_Dictionary_Public_Funds_Payments_FINAL.xlsx',...\n",
              "owner                     {'id': '5fuc-pqz2', 'displayName': 'NYC OpenData', 'profileImageUrlLarge': '/api/users/5fuc-pqz2/profile_images/LARG...\n",
              "query                                                                                                                                          {}\n",
              "rights                                                                                                                                     [read]\n",
              "tableAuthor               {'id': '5fuc-pqz2', 'displayName': 'NYC OpenData', 'profileImageUrlLarge': '/api/users/5fuc-pqz2/profile_images/LARG...\n",
              "tags                      [finance, campaign finance board, cfb, nyccfb, campaign finance, elections, contributions, politics, campaign, funding]\n",
              "flags                                                                                               [default, restorable, restorePossibleForType]"
            ],
            "text/html": [
              "\n",
              "  <div id=\"df-0d10fe6f-65df-4ef9-b4ef-d32d229023e5\" class=\"colab-df-container\">\n",
              "    <div>\n",
              "<style scoped>\n",
              "    .dataframe tbody tr th:only-of-type {\n",
              "        vertical-align: middle;\n",
              "    }\n",
              "\n",
              "    .dataframe tbody tr th {\n",
              "        vertical-align: top;\n",
              "    }\n",
              "\n",
              "    .dataframe thead th {\n",
              "        text-align: right;\n",
              "    }\n",
              "</style>\n",
              "<table border=\"1\" class=\"dataframe\">\n",
              "  <thead>\n",
              "    <tr style=\"text-align: right;\">\n",
              "      <th></th>\n",
              "      <th>value</th>\n",
              "    </tr>\n",
              "  </thead>\n",
              "  <tbody>\n",
              "    <tr>\n",
              "      <th>id</th>\n",
              "      <td>8dhd-zvi6</td>\n",
              "    </tr>\n",
              "    <tr>\n",
              "      <th>name</th>\n",
              "      <td>2001 Campaign Payments</td>\n",
              "    </tr>\n",
              "    <tr>\n",
              "      <th>attribution</th>\n",
              "      <td>Campaign Finance Board (CFB)</td>\n",
              "    </tr>\n",
              "    <tr>\n",
              "      <th>averageRating</th>\n",
              "      <td>0</td>\n",
              "    </tr>\n",
              "    <tr>\n",
              "      <th>category</th>\n",
              "      <td>City Government</td>\n",
              "    </tr>\n",
              "    <tr>\n",
              "      <th>createdAt</th>\n",
              "      <td>1315950830</td>\n",
              "    </tr>\n",
              "    <tr>\n",
              "      <th>description</th>\n",
              "      <td>A listing of public funds payments for candidates for City office during the 2001 election cycle</td>\n",
              "    </tr>\n",
              "    <tr>\n",
              "      <th>displayType</th>\n",
              "      <td>table</td>\n",
              "    </tr>\n",
              "    <tr>\n",
              "      <th>downloadCount</th>\n",
              "      <td>1470</td>\n",
              "    </tr>\n",
              "    <tr>\n",
              "      <th>hideFromCatalog</th>\n",
              "      <td>False</td>\n",
              "    </tr>\n",
              "    <tr>\n",
              "      <th>hideFromDataJson</th>\n",
              "      <td>False</td>\n",
              "    </tr>\n",
              "    <tr>\n",
              "      <th>indexUpdatedAt</th>\n",
              "      <td>1536596254</td>\n",
              "    </tr>\n",
              "    <tr>\n",
              "      <th>newBackend</th>\n",
              "      <td>False</td>\n",
              "    </tr>\n",
              "    <tr>\n",
              "      <th>numberOfComments</th>\n",
              "      <td>0</td>\n",
              "    </tr>\n",
              "    <tr>\n",
              "      <th>oid</th>\n",
              "      <td>4140996</td>\n",
              "    </tr>\n",
              "    <tr>\n",
              "      <th>provenance</th>\n",
              "      <td>official</td>\n",
              "    </tr>\n",
              "    <tr>\n",
              "      <th>publicationAppendEnabled</th>\n",
              "      <td>False</td>\n",
              "    </tr>\n",
              "    <tr>\n",
              "      <th>publicationDate</th>\n",
              "      <td>1371845179</td>\n",
              "    </tr>\n",
              "    <tr>\n",
              "      <th>publicationGroup</th>\n",
              "      <td>240370</td>\n",
              "    </tr>\n",
              "    <tr>\n",
              "      <th>publicationStage</th>\n",
              "      <td>published</td>\n",
              "    </tr>\n",
              "    <tr>\n",
              "      <th>rowClass</th>\n",
              "      <td></td>\n",
              "    </tr>\n",
              "    <tr>\n",
              "      <th>rowsUpdatedAt</th>\n",
              "      <td>1371845177</td>\n",
              "    </tr>\n",
              "    <tr>\n",
              "      <th>rowsUpdatedBy</th>\n",
              "      <td>5fuc-pqz2</td>\n",
              "    </tr>\n",
              "    <tr>\n",
              "      <th>tableId</th>\n",
              "      <td>932968</td>\n",
              "    </tr>\n",
              "    <tr>\n",
              "      <th>totalTimesRated</th>\n",
              "      <td>0</td>\n",
              "    </tr>\n",
              "    <tr>\n",
              "      <th>viewCount</th>\n",
              "      <td>233</td>\n",
              "    </tr>\n",
              "    <tr>\n",
              "      <th>viewLastModified</th>\n",
              "      <td>1536605717</td>\n",
              "    </tr>\n",
              "    <tr>\n",
              "      <th>viewType</th>\n",
              "      <td>tabular</td>\n",
              "    </tr>\n",
              "    <tr>\n",
              "      <th>columns</th>\n",
              "      <td>[{'id': -1, 'name': 'sid', 'dataTypeName': 'meta_data', 'fieldName': ':sid', 'position': 0, 'renderTypeName': 'meta_...</td>\n",
              "    </tr>\n",
              "    <tr>\n",
              "      <th>grants</th>\n",
              "      <td>[{'inherited': False, 'type': 'viewer', 'flags': ['public']}]</td>\n",
              "    </tr>\n",
              "    <tr>\n",
              "      <th>metadata</th>\n",
              "      <td>{'rdfSubject': '0', 'rdfClass': '', 'attachments': [{'filename': 'Data_Dictionary_Public_Funds_Payments_FINAL.xlsx',...</td>\n",
              "    </tr>\n",
              "    <tr>\n",
              "      <th>owner</th>\n",
              "      <td>{'id': '5fuc-pqz2', 'displayName': 'NYC OpenData', 'profileImageUrlLarge': '/api/users/5fuc-pqz2/profile_images/LARG...</td>\n",
              "    </tr>\n",
              "    <tr>\n",
              "      <th>query</th>\n",
              "      <td>{}</td>\n",
              "    </tr>\n",
              "    <tr>\n",
              "      <th>rights</th>\n",
              "      <td>[read]</td>\n",
              "    </tr>\n",
              "    <tr>\n",
              "      <th>tableAuthor</th>\n",
              "      <td>{'id': '5fuc-pqz2', 'displayName': 'NYC OpenData', 'profileImageUrlLarge': '/api/users/5fuc-pqz2/profile_images/LARG...</td>\n",
              "    </tr>\n",
              "    <tr>\n",
              "      <th>tags</th>\n",
              "      <td>[finance, campaign finance board, cfb, nyccfb, campaign finance, elections, contributions, politics, campaign, funding]</td>\n",
              "    </tr>\n",
              "    <tr>\n",
              "      <th>flags</th>\n",
              "      <td>[default, restorable, restorePossibleForType]</td>\n",
              "    </tr>\n",
              "  </tbody>\n",
              "</table>\n",
              "</div>\n",
              "    <div class=\"colab-df-buttons\">\n",
              "\n",
              "  <div class=\"colab-df-container\">\n",
              "    <button class=\"colab-df-convert\" onclick=\"convertToInteractive('df-0d10fe6f-65df-4ef9-b4ef-d32d229023e5')\"\n",
              "            title=\"Convert this dataframe to an interactive table.\"\n",
              "            style=\"display:none;\">\n",
              "\n",
              "  <svg xmlns=\"http://www.w3.org/2000/svg\" height=\"24px\" viewBox=\"0 -960 960 960\">\n",
              "    <path d=\"M120-120v-720h720v720H120Zm60-500h600v-160H180v160Zm220 220h160v-160H400v160Zm0 220h160v-160H400v160ZM180-400h160v-160H180v160Zm440 0h160v-160H620v160ZM180-180h160v-160H180v160Zm440 0h160v-160H620v160Z\"/>\n",
              "  </svg>\n",
              "    </button>\n",
              "\n",
              "  <style>\n",
              "    .colab-df-container {\n",
              "      display:flex;\n",
              "      gap: 12px;\n",
              "    }\n",
              "\n",
              "    .colab-df-convert {\n",
              "      background-color: #E8F0FE;\n",
              "      border: none;\n",
              "      border-radius: 50%;\n",
              "      cursor: pointer;\n",
              "      display: none;\n",
              "      fill: #1967D2;\n",
              "      height: 32px;\n",
              "      padding: 0 0 0 0;\n",
              "      width: 32px;\n",
              "    }\n",
              "\n",
              "    .colab-df-convert:hover {\n",
              "      background-color: #E2EBFA;\n",
              "      box-shadow: 0px 1px 2px rgba(60, 64, 67, 0.3), 0px 1px 3px 1px rgba(60, 64, 67, 0.15);\n",
              "      fill: #174EA6;\n",
              "    }\n",
              "\n",
              "    .colab-df-buttons div {\n",
              "      margin-bottom: 4px;\n",
              "    }\n",
              "\n",
              "    [theme=dark] .colab-df-convert {\n",
              "      background-color: #3B4455;\n",
              "      fill: #D2E3FC;\n",
              "    }\n",
              "\n",
              "    [theme=dark] .colab-df-convert:hover {\n",
              "      background-color: #434B5C;\n",
              "      box-shadow: 0px 1px 3px 1px rgba(0, 0, 0, 0.15);\n",
              "      filter: drop-shadow(0px 1px 2px rgba(0, 0, 0, 0.3));\n",
              "      fill: #FFFFFF;\n",
              "    }\n",
              "  </style>\n",
              "\n",
              "    <script>\n",
              "      const buttonEl =\n",
              "        document.querySelector('#df-0d10fe6f-65df-4ef9-b4ef-d32d229023e5 button.colab-df-convert');\n",
              "      buttonEl.style.display =\n",
              "        google.colab.kernel.accessAllowed ? 'block' : 'none';\n",
              "\n",
              "      async function convertToInteractive(key) {\n",
              "        const element = document.querySelector('#df-0d10fe6f-65df-4ef9-b4ef-d32d229023e5');\n",
              "        const dataTable =\n",
              "          await google.colab.kernel.invokeFunction('convertToInteractive',\n",
              "                                                    [key], {});\n",
              "        if (!dataTable) return;\n",
              "\n",
              "        const docLinkHtml = 'Like what you see? Visit the ' +\n",
              "          '<a target=\"_blank\" href=https://colab.research.google.com/notebooks/data_table.ipynb>data table notebook</a>'\n",
              "          + ' to learn more about interactive tables.';\n",
              "        element.innerHTML = '';\n",
              "        dataTable['output_type'] = 'display_data';\n",
              "        await google.colab.output.renderOutput(dataTable, element);\n",
              "        const docLink = document.createElement('div');\n",
              "        docLink.innerHTML = docLinkHtml;\n",
              "        element.appendChild(docLink);\n",
              "      }\n",
              "    </script>\n",
              "  </div>\n",
              "\n",
              "\n",
              "<div id=\"df-efd6e96d-9ebd-420b-8c35-9edc945871ed\">\n",
              "  <button class=\"colab-df-quickchart\" onclick=\"quickchart('df-efd6e96d-9ebd-420b-8c35-9edc945871ed')\"\n",
              "            title=\"Suggest charts\"\n",
              "            style=\"display:none;\">\n",
              "\n",
              "<svg xmlns=\"http://www.w3.org/2000/svg\" height=\"24px\"viewBox=\"0 0 24 24\"\n",
              "     width=\"24px\">\n",
              "    <g>\n",
              "        <path d=\"M19 3H5c-1.1 0-2 .9-2 2v14c0 1.1.9 2 2 2h14c1.1 0 2-.9 2-2V5c0-1.1-.9-2-2-2zM9 17H7v-7h2v7zm4 0h-2V7h2v10zm4 0h-2v-4h2v4z\"/>\n",
              "    </g>\n",
              "</svg>\n",
              "  </button>\n",
              "\n",
              "<style>\n",
              "  .colab-df-quickchart {\n",
              "      --bg-color: #E8F0FE;\n",
              "      --fill-color: #1967D2;\n",
              "      --hover-bg-color: #E2EBFA;\n",
              "      --hover-fill-color: #174EA6;\n",
              "      --disabled-fill-color: #AAA;\n",
              "      --disabled-bg-color: #DDD;\n",
              "  }\n",
              "\n",
              "  [theme=dark] .colab-df-quickchart {\n",
              "      --bg-color: #3B4455;\n",
              "      --fill-color: #D2E3FC;\n",
              "      --hover-bg-color: #434B5C;\n",
              "      --hover-fill-color: #FFFFFF;\n",
              "      --disabled-bg-color: #3B4455;\n",
              "      --disabled-fill-color: #666;\n",
              "  }\n",
              "\n",
              "  .colab-df-quickchart {\n",
              "    background-color: var(--bg-color);\n",
              "    border: none;\n",
              "    border-radius: 50%;\n",
              "    cursor: pointer;\n",
              "    display: none;\n",
              "    fill: var(--fill-color);\n",
              "    height: 32px;\n",
              "    padding: 0;\n",
              "    width: 32px;\n",
              "  }\n",
              "\n",
              "  .colab-df-quickchart:hover {\n",
              "    background-color: var(--hover-bg-color);\n",
              "    box-shadow: 0 1px 2px rgba(60, 64, 67, 0.3), 0 1px 3px 1px rgba(60, 64, 67, 0.15);\n",
              "    fill: var(--button-hover-fill-color);\n",
              "  }\n",
              "\n",
              "  .colab-df-quickchart-complete:disabled,\n",
              "  .colab-df-quickchart-complete:disabled:hover {\n",
              "    background-color: var(--disabled-bg-color);\n",
              "    fill: var(--disabled-fill-color);\n",
              "    box-shadow: none;\n",
              "  }\n",
              "\n",
              "  .colab-df-spinner {\n",
              "    border: 2px solid var(--fill-color);\n",
              "    border-color: transparent;\n",
              "    border-bottom-color: var(--fill-color);\n",
              "    animation:\n",
              "      spin 1s steps(1) infinite;\n",
              "  }\n",
              "\n",
              "  @keyframes spin {\n",
              "    0% {\n",
              "      border-color: transparent;\n",
              "      border-bottom-color: var(--fill-color);\n",
              "      border-left-color: var(--fill-color);\n",
              "    }\n",
              "    20% {\n",
              "      border-color: transparent;\n",
              "      border-left-color: var(--fill-color);\n",
              "      border-top-color: var(--fill-color);\n",
              "    }\n",
              "    30% {\n",
              "      border-color: transparent;\n",
              "      border-left-color: var(--fill-color);\n",
              "      border-top-color: var(--fill-color);\n",
              "      border-right-color: var(--fill-color);\n",
              "    }\n",
              "    40% {\n",
              "      border-color: transparent;\n",
              "      border-right-color: var(--fill-color);\n",
              "      border-top-color: var(--fill-color);\n",
              "    }\n",
              "    60% {\n",
              "      border-color: transparent;\n",
              "      border-right-color: var(--fill-color);\n",
              "    }\n",
              "    80% {\n",
              "      border-color: transparent;\n",
              "      border-right-color: var(--fill-color);\n",
              "      border-bottom-color: var(--fill-color);\n",
              "    }\n",
              "    90% {\n",
              "      border-color: transparent;\n",
              "      border-bottom-color: var(--fill-color);\n",
              "    }\n",
              "  }\n",
              "</style>\n",
              "\n",
              "  <script>\n",
              "    async function quickchart(key) {\n",
              "      const quickchartButtonEl =\n",
              "        document.querySelector('#' + key + ' button');\n",
              "      quickchartButtonEl.disabled = true;  // To prevent multiple clicks.\n",
              "      quickchartButtonEl.classList.add('colab-df-spinner');\n",
              "      try {\n",
              "        const charts = await google.colab.kernel.invokeFunction(\n",
              "            'suggestCharts', [key], {});\n",
              "      } catch (error) {\n",
              "        console.error('Error during call to suggestCharts:', error);\n",
              "      }\n",
              "      quickchartButtonEl.classList.remove('colab-df-spinner');\n",
              "      quickchartButtonEl.classList.add('colab-df-quickchart-complete');\n",
              "    }\n",
              "    (() => {\n",
              "      let quickchartButtonEl =\n",
              "        document.querySelector('#df-efd6e96d-9ebd-420b-8c35-9edc945871ed button');\n",
              "      quickchartButtonEl.style.display =\n",
              "        google.colab.kernel.accessAllowed ? 'block' : 'none';\n",
              "    })();\n",
              "  </script>\n",
              "</div>\n",
              "\n",
              "    </div>\n",
              "  </div>\n"
            ],
            "application/vnd.google.colaboratory.intrinsic+json": {
              "type": "dataframe",
              "summary": "{\n  \"name\": \")\",\n  \"rows\": 37,\n  \"fields\": [\n    {\n      \"column\": \"value\",\n      \"properties\": {\n        \"dtype\": \"object\",\n        \"semantic_type\": \"\",\n        \"description\": \"\"\n      }\n    }\n  ]\n}"
            }
          },
          "metadata": {},
          "execution_count": 14
        }
      ],
      "source": [
        "import pandas as pd\n",
        "pd.set_option(\"max_colwidth\", 120)\n",
        "pd.DataFrame(\n",
        "    data=data['meta']['view'].values(),\n",
        "    index=data['meta']['view'].keys(),\n",
        "    columns=[\"value\"]\n",
        ")"
      ]
    },
    {
      "cell_type": "markdown",
      "metadata": {
        "id": "KeV-Hnq08Bi_"
      },
      "source": [
        "So, it looks like the information under the `meta` key is essentially all of the metadata about the dataset, including the category, attribution, tags, etc.\n",
        "\n",
        "Now let's look at the main data.\n",
        "\n",
        "#### Parsing Data\n",
        "\n",
        "This time, let's look at the value associated with the `data` key. Recall that we previously identified that this had a `list` data type, so let's look at the length:"
      ]
    },
    {
      "cell_type": "code",
      "execution_count": 15,
      "metadata": {
        "id": "79yrjtX98Bi_",
        "outputId": "282e0ec8-e05f-4d76-d32b-0627653d3f82",
        "colab": {
          "base_uri": "https://localhost:8080/"
        }
      },
      "outputs": [
        {
          "output_type": "execute_result",
          "data": {
            "text/plain": [
              "285"
            ]
          },
          "metadata": {},
          "execution_count": 15
        }
      ],
      "source": [
        "len(data['data'])"
      ]
    },
    {
      "cell_type": "markdown",
      "metadata": {
        "id": "xjT1lw7s8Bi_"
      },
      "source": [
        "Now let's look at a couple different values:"
      ]
    },
    {
      "cell_type": "code",
      "execution_count": 16,
      "metadata": {
        "id": "eqxpnzKy8Bi_",
        "outputId": "fb1e0dbf-4e29-4dd4-adbf-319bfe9258b2",
        "colab": {
          "base_uri": "https://localhost:8080/"
        }
      },
      "outputs": [
        {
          "output_type": "execute_result",
          "data": {
            "text/plain": [
              "[1,\n",
              " 'E3E9CC9F-7443-43F6-94AF-B5A0F802DBA1',\n",
              " 1,\n",
              " 1315925633,\n",
              " '392904',\n",
              " 1315925633,\n",
              " '392904',\n",
              " '{\\n  \"invalidCells\" : {\\n    \"1519001\" : \"TOTALPAY\",\\n    \"1518998\" : \"PRIMARYPAY\",\\n    \"1519000\" : \"RUNOFFPAY\",\\n    \"1518999\" : \"GENERALPAY\",\\n    \"1518994\" : \"OFFICECD\",\\n    \"1518996\" : \"OFFICEDIST\",\\n    \"1518991\" : \"ELECTION\"\\n  }\\n}',\n",
              " None,\n",
              " 'CANDID',\n",
              " 'CANDNAME',\n",
              " None,\n",
              " 'OFFICEBORO',\n",
              " None,\n",
              " 'CANCLASS',\n",
              " None,\n",
              " None,\n",
              " None,\n",
              " None]"
            ]
          },
          "metadata": {},
          "execution_count": 16
        }
      ],
      "source": [
        "data['data'][0]"
      ]
    },
    {
      "cell_type": "code",
      "execution_count": 17,
      "metadata": {
        "id": "rIH3Hsn_8BjA",
        "outputId": "26d1e841-25d4-485b-af78-f8ab640ada11",
        "colab": {
          "base_uri": "https://localhost:8080/"
        }
      },
      "outputs": [
        {
          "output_type": "execute_result",
          "data": {
            "text/plain": [
              "[2,\n",
              " '9D257416-581A-4C42-85CC-B6EAD9DED97F',\n",
              " 2,\n",
              " 1315925633,\n",
              " '392904',\n",
              " 1315925633,\n",
              " '392904',\n",
              " '{\\n}',\n",
              " '2001',\n",
              " 'B4',\n",
              " 'Aboulafia, Sandy',\n",
              " '5',\n",
              " None,\n",
              " '44',\n",
              " 'P',\n",
              " '45410.00',\n",
              " '0',\n",
              " '0',\n",
              " '45410.00']"
            ]
          },
          "metadata": {},
          "execution_count": 17
        }
      ],
      "source": [
        "data['data'][1]"
      ]
    },
    {
      "cell_type": "code",
      "execution_count": 18,
      "metadata": {
        "id": "Edm2xgeb8BjA",
        "outputId": "dc764eaf-79b6-4dbd-a63b-4dd2c0f47610",
        "colab": {
          "base_uri": "https://localhost:8080/"
        }
      },
      "outputs": [
        {
          "output_type": "execute_result",
          "data": {
            "text/plain": [
              "[3,\n",
              " 'B80D7891-93CF-49E8-86E8-182B618E68F2',\n",
              " 3,\n",
              " 1315925633,\n",
              " '392904',\n",
              " 1315925633,\n",
              " '392904',\n",
              " '{\\n}',\n",
              " '2001',\n",
              " '445',\n",
              " 'Adams, Jackie R',\n",
              " '5',\n",
              " None,\n",
              " '7',\n",
              " 'P',\n",
              " '11073.00',\n",
              " '0',\n",
              " '0',\n",
              " '11073.00']"
            ]
          },
          "metadata": {},
          "execution_count": 18
        }
      ],
      "source": [
        "data['data'][2]"
      ]
    },
    {
      "cell_type": "markdown",
      "metadata": {
        "id": "cNljiLdn8BjA"
      },
      "source": [
        "This looks more like some kind of tabular data, where the first (`0`-th) row is some kind of header. Again, let's use pandas to make this into a more-readable table format:"
      ]
    },
    {
      "cell_type": "code",
      "execution_count": 21,
      "metadata": {
        "id": "24rZ9dEf8BjA",
        "outputId": "59710fa2-e2db-4fc7-bc7d-f391c9f0db6b",
        "colab": {
          "base_uri": "https://localhost:8080/",
          "height": 504
        }
      },
      "outputs": [
        {
          "output_type": "execute_result",
          "data": {
            "text/plain": [
              "   0                                     1   2           3       4   \\\n",
              "0   1  E3E9CC9F-7443-43F6-94AF-B5A0F802DBA1   1  1315925633  392904   \n",
              "1   2  9D257416-581A-4C42-85CC-B6EAD9DED97F   2  1315925633  392904   \n",
              "2   3  B80D7891-93CF-49E8-86E8-182B618E68F2   3  1315925633  392904   \n",
              "3   4  BB012003-78F5-406D-8A87-7FF8A425EE3F   4  1315925633  392904   \n",
              "4   5  945825F9-2F5D-47C2-A16B-75B93E61E1AD   5  1315925633  392904   \n",
              "\n",
              "           5       6   \\\n",
              "0  1315925633  392904   \n",
              "1  1315925633  392904   \n",
              "2  1315925633  392904   \n",
              "3  1315925633  392904   \n",
              "4  1315925633  392904   \n",
              "\n",
              "                                                                                                                        7   \\\n",
              "0  {\\n  \"invalidCells\" : {\\n    \"1519001\" : \"TOTALPAY\",\\n    \"1518998\" : \"PRIMARYPAY\",\\n    \"1519000\" : \"RUNOFFPAY\",\\n ...   \n",
              "1                                                                                                                     {\\n}   \n",
              "2                                                                                                                     {\\n}   \n",
              "3                                                                                                                     {\\n}   \n",
              "4                                                                                                                     {\\n}   \n",
              "\n",
              "     8       9                       10    11          12    13        14  \\\n",
              "0  None  CANDID                CANDNAME  None  OFFICEBORO  None  CANCLASS   \n",
              "1  2001      B4        Aboulafia, Sandy     5        None    44         P   \n",
              "2  2001     445         Adams, Jackie R     5        None     7         P   \n",
              "3  2001      HF       Addabbo, Joseph P     5        None    32         P   \n",
              "4  2001      IR  Alamo-Estrada, Agustin     5        None    14         P   \n",
              "\n",
              "         15        16    17         18  \n",
              "0      None      None  None       None  \n",
              "1  45410.00         0     0   45410.00  \n",
              "2  11073.00         0     0   11073.00  \n",
              "3  75350.00  73970.00     0  149320.00  \n",
              "4  25000.00   2400.00     0   27400.00  "
            ],
            "text/html": [
              "\n",
              "  <div id=\"df-88a2ff26-7a9b-40b2-8ee1-d6aa6fd458fe\" class=\"colab-df-container\">\n",
              "    <div>\n",
              "<style scoped>\n",
              "    .dataframe tbody tr th:only-of-type {\n",
              "        vertical-align: middle;\n",
              "    }\n",
              "\n",
              "    .dataframe tbody tr th {\n",
              "        vertical-align: top;\n",
              "    }\n",
              "\n",
              "    .dataframe thead th {\n",
              "        text-align: right;\n",
              "    }\n",
              "</style>\n",
              "<table border=\"1\" class=\"dataframe\">\n",
              "  <thead>\n",
              "    <tr style=\"text-align: right;\">\n",
              "      <th></th>\n",
              "      <th>0</th>\n",
              "      <th>1</th>\n",
              "      <th>2</th>\n",
              "      <th>3</th>\n",
              "      <th>4</th>\n",
              "      <th>5</th>\n",
              "      <th>6</th>\n",
              "      <th>7</th>\n",
              "      <th>8</th>\n",
              "      <th>9</th>\n",
              "      <th>10</th>\n",
              "      <th>11</th>\n",
              "      <th>12</th>\n",
              "      <th>13</th>\n",
              "      <th>14</th>\n",
              "      <th>15</th>\n",
              "      <th>16</th>\n",
              "      <th>17</th>\n",
              "      <th>18</th>\n",
              "    </tr>\n",
              "  </thead>\n",
              "  <tbody>\n",
              "    <tr>\n",
              "      <th>0</th>\n",
              "      <td>1</td>\n",
              "      <td>E3E9CC9F-7443-43F6-94AF-B5A0F802DBA1</td>\n",
              "      <td>1</td>\n",
              "      <td>1315925633</td>\n",
              "      <td>392904</td>\n",
              "      <td>1315925633</td>\n",
              "      <td>392904</td>\n",
              "      <td>{\\n  \"invalidCells\" : {\\n    \"1519001\" : \"TOTALPAY\",\\n    \"1518998\" : \"PRIMARYPAY\",\\n    \"1519000\" : \"RUNOFFPAY\",\\n ...</td>\n",
              "      <td>None</td>\n",
              "      <td>CANDID</td>\n",
              "      <td>CANDNAME</td>\n",
              "      <td>None</td>\n",
              "      <td>OFFICEBORO</td>\n",
              "      <td>None</td>\n",
              "      <td>CANCLASS</td>\n",
              "      <td>None</td>\n",
              "      <td>None</td>\n",
              "      <td>None</td>\n",
              "      <td>None</td>\n",
              "    </tr>\n",
              "    <tr>\n",
              "      <th>1</th>\n",
              "      <td>2</td>\n",
              "      <td>9D257416-581A-4C42-85CC-B6EAD9DED97F</td>\n",
              "      <td>2</td>\n",
              "      <td>1315925633</td>\n",
              "      <td>392904</td>\n",
              "      <td>1315925633</td>\n",
              "      <td>392904</td>\n",
              "      <td>{\\n}</td>\n",
              "      <td>2001</td>\n",
              "      <td>B4</td>\n",
              "      <td>Aboulafia, Sandy</td>\n",
              "      <td>5</td>\n",
              "      <td>None</td>\n",
              "      <td>44</td>\n",
              "      <td>P</td>\n",
              "      <td>45410.00</td>\n",
              "      <td>0</td>\n",
              "      <td>0</td>\n",
              "      <td>45410.00</td>\n",
              "    </tr>\n",
              "    <tr>\n",
              "      <th>2</th>\n",
              "      <td>3</td>\n",
              "      <td>B80D7891-93CF-49E8-86E8-182B618E68F2</td>\n",
              "      <td>3</td>\n",
              "      <td>1315925633</td>\n",
              "      <td>392904</td>\n",
              "      <td>1315925633</td>\n",
              "      <td>392904</td>\n",
              "      <td>{\\n}</td>\n",
              "      <td>2001</td>\n",
              "      <td>445</td>\n",
              "      <td>Adams, Jackie R</td>\n",
              "      <td>5</td>\n",
              "      <td>None</td>\n",
              "      <td>7</td>\n",
              "      <td>P</td>\n",
              "      <td>11073.00</td>\n",
              "      <td>0</td>\n",
              "      <td>0</td>\n",
              "      <td>11073.00</td>\n",
              "    </tr>\n",
              "    <tr>\n",
              "      <th>3</th>\n",
              "      <td>4</td>\n",
              "      <td>BB012003-78F5-406D-8A87-7FF8A425EE3F</td>\n",
              "      <td>4</td>\n",
              "      <td>1315925633</td>\n",
              "      <td>392904</td>\n",
              "      <td>1315925633</td>\n",
              "      <td>392904</td>\n",
              "      <td>{\\n}</td>\n",
              "      <td>2001</td>\n",
              "      <td>HF</td>\n",
              "      <td>Addabbo, Joseph P</td>\n",
              "      <td>5</td>\n",
              "      <td>None</td>\n",
              "      <td>32</td>\n",
              "      <td>P</td>\n",
              "      <td>75350.00</td>\n",
              "      <td>73970.00</td>\n",
              "      <td>0</td>\n",
              "      <td>149320.00</td>\n",
              "    </tr>\n",
              "    <tr>\n",
              "      <th>4</th>\n",
              "      <td>5</td>\n",
              "      <td>945825F9-2F5D-47C2-A16B-75B93E61E1AD</td>\n",
              "      <td>5</td>\n",
              "      <td>1315925633</td>\n",
              "      <td>392904</td>\n",
              "      <td>1315925633</td>\n",
              "      <td>392904</td>\n",
              "      <td>{\\n}</td>\n",
              "      <td>2001</td>\n",
              "      <td>IR</td>\n",
              "      <td>Alamo-Estrada, Agustin</td>\n",
              "      <td>5</td>\n",
              "      <td>None</td>\n",
              "      <td>14</td>\n",
              "      <td>P</td>\n",
              "      <td>25000.00</td>\n",
              "      <td>2400.00</td>\n",
              "      <td>0</td>\n",
              "      <td>27400.00</td>\n",
              "    </tr>\n",
              "  </tbody>\n",
              "</table>\n",
              "</div>\n",
              "    <div class=\"colab-df-buttons\">\n",
              "\n",
              "  <div class=\"colab-df-container\">\n",
              "    <button class=\"colab-df-convert\" onclick=\"convertToInteractive('df-88a2ff26-7a9b-40b2-8ee1-d6aa6fd458fe')\"\n",
              "            title=\"Convert this dataframe to an interactive table.\"\n",
              "            style=\"display:none;\">\n",
              "\n",
              "  <svg xmlns=\"http://www.w3.org/2000/svg\" height=\"24px\" viewBox=\"0 -960 960 960\">\n",
              "    <path d=\"M120-120v-720h720v720H120Zm60-500h600v-160H180v160Zm220 220h160v-160H400v160Zm0 220h160v-160H400v160ZM180-400h160v-160H180v160Zm440 0h160v-160H620v160ZM180-180h160v-160H180v160Zm440 0h160v-160H620v160Z\"/>\n",
              "  </svg>\n",
              "    </button>\n",
              "\n",
              "  <style>\n",
              "    .colab-df-container {\n",
              "      display:flex;\n",
              "      gap: 12px;\n",
              "    }\n",
              "\n",
              "    .colab-df-convert {\n",
              "      background-color: #E8F0FE;\n",
              "      border: none;\n",
              "      border-radius: 50%;\n",
              "      cursor: pointer;\n",
              "      display: none;\n",
              "      fill: #1967D2;\n",
              "      height: 32px;\n",
              "      padding: 0 0 0 0;\n",
              "      width: 32px;\n",
              "    }\n",
              "\n",
              "    .colab-df-convert:hover {\n",
              "      background-color: #E2EBFA;\n",
              "      box-shadow: 0px 1px 2px rgba(60, 64, 67, 0.3), 0px 1px 3px 1px rgba(60, 64, 67, 0.15);\n",
              "      fill: #174EA6;\n",
              "    }\n",
              "\n",
              "    .colab-df-buttons div {\n",
              "      margin-bottom: 4px;\n",
              "    }\n",
              "\n",
              "    [theme=dark] .colab-df-convert {\n",
              "      background-color: #3B4455;\n",
              "      fill: #D2E3FC;\n",
              "    }\n",
              "\n",
              "    [theme=dark] .colab-df-convert:hover {\n",
              "      background-color: #434B5C;\n",
              "      box-shadow: 0px 1px 3px 1px rgba(0, 0, 0, 0.15);\n",
              "      filter: drop-shadow(0px 1px 2px rgba(0, 0, 0, 0.3));\n",
              "      fill: #FFFFFF;\n",
              "    }\n",
              "  </style>\n",
              "\n",
              "    <script>\n",
              "      const buttonEl =\n",
              "        document.querySelector('#df-88a2ff26-7a9b-40b2-8ee1-d6aa6fd458fe button.colab-df-convert');\n",
              "      buttonEl.style.display =\n",
              "        google.colab.kernel.accessAllowed ? 'block' : 'none';\n",
              "\n",
              "      async function convertToInteractive(key) {\n",
              "        const element = document.querySelector('#df-88a2ff26-7a9b-40b2-8ee1-d6aa6fd458fe');\n",
              "        const dataTable =\n",
              "          await google.colab.kernel.invokeFunction('convertToInteractive',\n",
              "                                                    [key], {});\n",
              "        if (!dataTable) return;\n",
              "\n",
              "        const docLinkHtml = 'Like what you see? Visit the ' +\n",
              "          '<a target=\"_blank\" href=https://colab.research.google.com/notebooks/data_table.ipynb>data table notebook</a>'\n",
              "          + ' to learn more about interactive tables.';\n",
              "        element.innerHTML = '';\n",
              "        dataTable['output_type'] = 'display_data';\n",
              "        await google.colab.output.renderOutput(dataTable, element);\n",
              "        const docLink = document.createElement('div');\n",
              "        docLink.innerHTML = docLinkHtml;\n",
              "        element.appendChild(docLink);\n",
              "      }\n",
              "    </script>\n",
              "  </div>\n",
              "\n",
              "\n",
              "<div id=\"df-27e95d78-b268-4aec-8a45-70bd917c3cf8\">\n",
              "  <button class=\"colab-df-quickchart\" onclick=\"quickchart('df-27e95d78-b268-4aec-8a45-70bd917c3cf8')\"\n",
              "            title=\"Suggest charts\"\n",
              "            style=\"display:none;\">\n",
              "\n",
              "<svg xmlns=\"http://www.w3.org/2000/svg\" height=\"24px\"viewBox=\"0 0 24 24\"\n",
              "     width=\"24px\">\n",
              "    <g>\n",
              "        <path d=\"M19 3H5c-1.1 0-2 .9-2 2v14c0 1.1.9 2 2 2h14c1.1 0 2-.9 2-2V5c0-1.1-.9-2-2-2zM9 17H7v-7h2v7zm4 0h-2V7h2v10zm4 0h-2v-4h2v4z\"/>\n",
              "    </g>\n",
              "</svg>\n",
              "  </button>\n",
              "\n",
              "<style>\n",
              "  .colab-df-quickchart {\n",
              "      --bg-color: #E8F0FE;\n",
              "      --fill-color: #1967D2;\n",
              "      --hover-bg-color: #E2EBFA;\n",
              "      --hover-fill-color: #174EA6;\n",
              "      --disabled-fill-color: #AAA;\n",
              "      --disabled-bg-color: #DDD;\n",
              "  }\n",
              "\n",
              "  [theme=dark] .colab-df-quickchart {\n",
              "      --bg-color: #3B4455;\n",
              "      --fill-color: #D2E3FC;\n",
              "      --hover-bg-color: #434B5C;\n",
              "      --hover-fill-color: #FFFFFF;\n",
              "      --disabled-bg-color: #3B4455;\n",
              "      --disabled-fill-color: #666;\n",
              "  }\n",
              "\n",
              "  .colab-df-quickchart {\n",
              "    background-color: var(--bg-color);\n",
              "    border: none;\n",
              "    border-radius: 50%;\n",
              "    cursor: pointer;\n",
              "    display: none;\n",
              "    fill: var(--fill-color);\n",
              "    height: 32px;\n",
              "    padding: 0;\n",
              "    width: 32px;\n",
              "  }\n",
              "\n",
              "  .colab-df-quickchart:hover {\n",
              "    background-color: var(--hover-bg-color);\n",
              "    box-shadow: 0 1px 2px rgba(60, 64, 67, 0.3), 0 1px 3px 1px rgba(60, 64, 67, 0.15);\n",
              "    fill: var(--button-hover-fill-color);\n",
              "  }\n",
              "\n",
              "  .colab-df-quickchart-complete:disabled,\n",
              "  .colab-df-quickchart-complete:disabled:hover {\n",
              "    background-color: var(--disabled-bg-color);\n",
              "    fill: var(--disabled-fill-color);\n",
              "    box-shadow: none;\n",
              "  }\n",
              "\n",
              "  .colab-df-spinner {\n",
              "    border: 2px solid var(--fill-color);\n",
              "    border-color: transparent;\n",
              "    border-bottom-color: var(--fill-color);\n",
              "    animation:\n",
              "      spin 1s steps(1) infinite;\n",
              "  }\n",
              "\n",
              "  @keyframes spin {\n",
              "    0% {\n",
              "      border-color: transparent;\n",
              "      border-bottom-color: var(--fill-color);\n",
              "      border-left-color: var(--fill-color);\n",
              "    }\n",
              "    20% {\n",
              "      border-color: transparent;\n",
              "      border-left-color: var(--fill-color);\n",
              "      border-top-color: var(--fill-color);\n",
              "    }\n",
              "    30% {\n",
              "      border-color: transparent;\n",
              "      border-left-color: var(--fill-color);\n",
              "      border-top-color: var(--fill-color);\n",
              "      border-right-color: var(--fill-color);\n",
              "    }\n",
              "    40% {\n",
              "      border-color: transparent;\n",
              "      border-right-color: var(--fill-color);\n",
              "      border-top-color: var(--fill-color);\n",
              "    }\n",
              "    60% {\n",
              "      border-color: transparent;\n",
              "      border-right-color: var(--fill-color);\n",
              "    }\n",
              "    80% {\n",
              "      border-color: transparent;\n",
              "      border-right-color: var(--fill-color);\n",
              "      border-bottom-color: var(--fill-color);\n",
              "    }\n",
              "    90% {\n",
              "      border-color: transparent;\n",
              "      border-bottom-color: var(--fill-color);\n",
              "    }\n",
              "  }\n",
              "</style>\n",
              "\n",
              "  <script>\n",
              "    async function quickchart(key) {\n",
              "      const quickchartButtonEl =\n",
              "        document.querySelector('#' + key + ' button');\n",
              "      quickchartButtonEl.disabled = true;  // To prevent multiple clicks.\n",
              "      quickchartButtonEl.classList.add('colab-df-spinner');\n",
              "      try {\n",
              "        const charts = await google.colab.kernel.invokeFunction(\n",
              "            'suggestCharts', [key], {});\n",
              "      } catch (error) {\n",
              "        console.error('Error during call to suggestCharts:', error);\n",
              "      }\n",
              "      quickchartButtonEl.classList.remove('colab-df-spinner');\n",
              "      quickchartButtonEl.classList.add('colab-df-quickchart-complete');\n",
              "    }\n",
              "    (() => {\n",
              "      let quickchartButtonEl =\n",
              "        document.querySelector('#df-27e95d78-b268-4aec-8a45-70bd917c3cf8 button');\n",
              "      quickchartButtonEl.style.display =\n",
              "        google.colab.kernel.accessAllowed ? 'block' : 'none';\n",
              "    })();\n",
              "  </script>\n",
              "</div>\n",
              "\n",
              "    </div>\n",
              "  </div>\n"
            ],
            "application/vnd.google.colaboratory.intrinsic+json": {
              "type": "dataframe",
              "summary": "{\n  \"name\": \"pd\",\n  \"rows\": 5,\n  \"fields\": [\n    {\n      \"column\": 0,\n      \"properties\": {\n        \"dtype\": \"number\",\n        \"std\": 1,\n        \"min\": 1,\n        \"max\": 5,\n        \"num_unique_values\": 5,\n        \"samples\": [\n          2,\n          5,\n          3\n        ],\n        \"semantic_type\": \"\",\n        \"description\": \"\"\n      }\n    },\n    {\n      \"column\": 1,\n      \"properties\": {\n        \"dtype\": \"string\",\n        \"num_unique_values\": 5,\n        \"samples\": [\n          \"9D257416-581A-4C42-85CC-B6EAD9DED97F\",\n          \"945825F9-2F5D-47C2-A16B-75B93E61E1AD\",\n          \"B80D7891-93CF-49E8-86E8-182B618E68F2\"\n        ],\n        \"semantic_type\": \"\",\n        \"description\": \"\"\n      }\n    },\n    {\n      \"column\": 2,\n      \"properties\": {\n        \"dtype\": \"number\",\n        \"std\": 1,\n        \"min\": 1,\n        \"max\": 5,\n        \"num_unique_values\": 5,\n        \"samples\": [\n          2,\n          5,\n          3\n        ],\n        \"semantic_type\": \"\",\n        \"description\": \"\"\n      }\n    },\n    {\n      \"column\": 3,\n      \"properties\": {\n        \"dtype\": \"number\",\n        \"std\": 0,\n        \"min\": 1315925633,\n        \"max\": 1315925633,\n        \"num_unique_values\": 1,\n        \"samples\": [\n          1315925633\n        ],\n        \"semantic_type\": \"\",\n        \"description\": \"\"\n      }\n    },\n    {\n      \"column\": 4,\n      \"properties\": {\n        \"dtype\": \"category\",\n        \"num_unique_values\": 1,\n        \"samples\": [\n          \"392904\"\n        ],\n        \"semantic_type\": \"\",\n        \"description\": \"\"\n      }\n    },\n    {\n      \"column\": 5,\n      \"properties\": {\n        \"dtype\": \"number\",\n        \"std\": 0,\n        \"min\": 1315925633,\n        \"max\": 1315925633,\n        \"num_unique_values\": 1,\n        \"samples\": [\n          1315925633\n        ],\n        \"semantic_type\": \"\",\n        \"description\": \"\"\n      }\n    },\n    {\n      \"column\": 6,\n      \"properties\": {\n        \"dtype\": \"category\",\n        \"num_unique_values\": 1,\n        \"samples\": [\n          \"392904\"\n        ],\n        \"semantic_type\": \"\",\n        \"description\": \"\"\n      }\n    },\n    {\n      \"column\": 7,\n      \"properties\": {\n        \"dtype\": \"category\",\n        \"num_unique_values\": 2,\n        \"samples\": [\n          \"{\\n}\"\n        ],\n        \"semantic_type\": \"\",\n        \"description\": \"\"\n      }\n    },\n    {\n      \"column\": 8,\n      \"properties\": {\n        \"dtype\": \"date\",\n        \"min\": \"2001-01-01 00:00:00\",\n        \"max\": \"2001-01-01 00:00:00\",\n        \"num_unique_values\": 1,\n        \"samples\": [\n          \"2001\"\n        ],\n        \"semantic_type\": \"\",\n        \"description\": \"\"\n      }\n    },\n    {\n      \"column\": 9,\n      \"properties\": {\n        \"dtype\": \"string\",\n        \"num_unique_values\": 5,\n        \"samples\": [\n          \"B4\"\n        ],\n        \"semantic_type\": \"\",\n        \"description\": \"\"\n      }\n    },\n    {\n      \"column\": 10,\n      \"properties\": {\n        \"dtype\": \"string\",\n        \"num_unique_values\": 5,\n        \"samples\": [\n          \"Aboulafia, Sandy\"\n        ],\n        \"semantic_type\": \"\",\n        \"description\": \"\"\n      }\n    },\n    {\n      \"column\": 11,\n      \"properties\": {\n        \"dtype\": \"category\",\n        \"num_unique_values\": 1,\n        \"samples\": [\n          \"5\"\n        ],\n        \"semantic_type\": \"\",\n        \"description\": \"\"\n      }\n    },\n    {\n      \"column\": 12,\n      \"properties\": {\n        \"dtype\": \"category\",\n        \"num_unique_values\": 1,\n        \"samples\": [\n          \"OFFICEBORO\"\n        ],\n        \"semantic_type\": \"\",\n        \"description\": \"\"\n      }\n    },\n    {\n      \"column\": 13,\n      \"properties\": {\n        \"dtype\": \"string\",\n        \"num_unique_values\": 4,\n        \"samples\": [\n          \"7\"\n        ],\n        \"semantic_type\": \"\",\n        \"description\": \"\"\n      }\n    },\n    {\n      \"column\": 14,\n      \"properties\": {\n        \"dtype\": \"category\",\n        \"num_unique_values\": 2,\n        \"samples\": [\n          \"P\"\n        ],\n        \"semantic_type\": \"\",\n        \"description\": \"\"\n      }\n    },\n    {\n      \"column\": 15,\n      \"properties\": {\n        \"dtype\": \"string\",\n        \"num_unique_values\": 4,\n        \"samples\": [\n          \"11073.00\"\n        ],\n        \"semantic_type\": \"\",\n        \"description\": \"\"\n      }\n    },\n    {\n      \"column\": 16,\n      \"properties\": {\n        \"dtype\": \"string\",\n        \"num_unique_values\": 3,\n        \"samples\": [\n          \"0\"\n        ],\n        \"semantic_type\": \"\",\n        \"description\": \"\"\n      }\n    },\n    {\n      \"column\": 17,\n      \"properties\": {\n        \"dtype\": \"category\",\n        \"num_unique_values\": 1,\n        \"samples\": [\n          \"0\"\n        ],\n        \"semantic_type\": \"\",\n        \"description\": \"\"\n      }\n    },\n    {\n      \"column\": 18,\n      \"properties\": {\n        \"dtype\": \"string\",\n        \"num_unique_values\": 4,\n        \"samples\": [\n          \"11073.00\"\n        ],\n        \"semantic_type\": \"\",\n        \"description\": \"\"\n      }\n    }\n  ]\n}"
            }
          },
          "metadata": {},
          "execution_count": 21
        }
      ],
      "source": [
        "pd.DataFrame(data['data']).head()"
      ]
    },
    {
      "cell_type": "markdown",
      "metadata": {
        "id": "C4mWZHub8BjB"
      },
      "source": [
        "We still have some work to do to understand what all of the columns are supposed to mean, but now we have a general sense of what the data looks like."
      ]
    },
    {
      "cell_type": "markdown",
      "metadata": {
        "id": "dTSmYK7x8BjB"
      },
      "source": [
        "### Extracting a Value from a JSON File\n",
        "\n",
        "Now, let's say that our task is:\n",
        "\n",
        "> Extract the description of the dataset\n",
        "\n",
        "We know from our initial exploration that this JSON file contains `meta` and `data`, and that `meta` has this kind of high-level information whereas `data` has the actual records relating to campaign finance.\n",
        "\n",
        "Let's look at the keys of `meta` again:"
      ]
    },
    {
      "cell_type": "code",
      "execution_count": 22,
      "metadata": {
        "id": "EilCbU988BjB",
        "outputId": "39f846d9-0516-47e4-fd21-a57e26b21fd1",
        "colab": {
          "base_uri": "https://localhost:8080/"
        }
      },
      "outputs": [
        {
          "output_type": "execute_result",
          "data": {
            "text/plain": [
              "dict_keys(['id', 'name', 'attribution', 'averageRating', 'category', 'createdAt', 'description', 'displayType', 'downloadCount', 'hideFromCatalog', 'hideFromDataJson', 'indexUpdatedAt', 'newBackend', 'numberOfComments', 'oid', 'provenance', 'publicationAppendEnabled', 'publicationDate', 'publicationGroup', 'publicationStage', 'rowClass', 'rowsUpdatedAt', 'rowsUpdatedBy', 'tableId', 'totalTimesRated', 'viewCount', 'viewLastModified', 'viewType', 'columns', 'grants', 'metadata', 'owner', 'query', 'rights', 'tableAuthor', 'tags', 'flags'])"
            ]
          },
          "metadata": {},
          "execution_count": 22
        }
      ],
      "source": [
        "data['meta']['view'].keys()"
      ]
    },
    {
      "cell_type": "markdown",
      "metadata": {
        "id": "ythD1YBl8BjB"
      },
      "source": [
        "Ok, `description` is the 7th one. Let's pull the value associated with the `description` key:"
      ]
    },
    {
      "cell_type": "code",
      "execution_count": 23,
      "metadata": {
        "id": "qDBS1Z9m8BjB",
        "outputId": "18168f53-78d5-4c1f-e329-94d55522a2ec",
        "colab": {
          "base_uri": "https://localhost:8080/",
          "height": 35
        }
      },
      "outputs": [
        {
          "output_type": "execute_result",
          "data": {
            "text/plain": [
              "'A listing of public funds payments for candidates for City office during the 2001 election cycle'"
            ],
            "application/vnd.google.colaboratory.intrinsic+json": {
              "type": "string"
            }
          },
          "metadata": {},
          "execution_count": 23
        }
      ],
      "source": [
        "data['meta']['view']['description']"
      ]
    },
    {
      "cell_type": "markdown",
      "metadata": {
        "id": "aguIkUlh8BjC"
      },
      "source": [
        "This is the general process you will use when extracting information from a JSON file."
      ]
    },
    {
      "cell_type": "markdown",
      "metadata": {
        "id": "Ox4JssXb8BjC"
      },
      "source": [
        "## Summary\n",
        "As you can see, there's a lot going on here with the deeply nested structure of JSON data files."
      ]
    }
  ],
  "metadata": {
    "kernelspec": {
      "display_name": "Python 3",
      "language": "python",
      "name": "python3"
    },
    "language_info": {
      "codemirror_mode": {
        "name": "ipython",
        "version": 3
      },
      "file_extension": ".py",
      "mimetype": "text/x-python",
      "name": "python",
      "nbconvert_exporter": "python",
      "pygments_lexer": "ipython3",
      "version": "3.8.5"
    },
    "toc": {
      "base_numbering": 1,
      "nav_menu": {},
      "number_sections": true,
      "sideBar": true,
      "skip_h1_title": false,
      "title_cell": "Table of Contents",
      "title_sidebar": "Contents",
      "toc_cell": false,
      "toc_position": {},
      "toc_section_display": true,
      "toc_window_display": false
    },
    "colab": {
      "provenance": [],
      "include_colab_link": true
    }
  },
  "nbformat": 4,
  "nbformat_minor": 0
}